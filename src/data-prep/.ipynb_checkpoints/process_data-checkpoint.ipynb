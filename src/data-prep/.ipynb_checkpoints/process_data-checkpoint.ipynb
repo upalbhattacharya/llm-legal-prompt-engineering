{
 "cells": [
  {
   "cell_type": "markdown",
   "id": "8a6a8436-d778-442b-8e45-69526164d610",
   "metadata": {},
   "source": [
    "# Processing provided test data"
   ]
  },
  {
   "cell_type": "markdown",
   "id": "d6d907c9-0b1a-4ada-ae12-2eb2ab4efb66",
   "metadata": {},
   "source": [
    "This notebook aims to process the three test sets provided to convert them into a usable format."
   ]
  },
  {
   "cell_type": "markdown",
   "id": "aed104cc-a532-4bbe-a7d5-bba354154b65",
   "metadata": {},
   "source": [
    "Loading the three test sets"
   ]
  },
  {
   "cell_type": "code",
   "execution_count": 232,
   "id": "9a1f966d-f6ef-452b-b0aa-3b3eefbf67d8",
   "metadata": {},
   "outputs": [],
   "source": [
    "import pandas as pd\n",
    "from itertools import chain\n",
    "import re\n",
    "import json\n",
    "import os\n",
    "from ast import literal_eval"
   ]
  },
  {
   "cell_type": "code",
   "execution_count": 233,
   "id": "fd4687b5-9d1d-43b3-9d8d-03a046e520b2",
   "metadata": {},
   "outputs": [],
   "source": [
    "test_df1 = pd.read_csv(\"/home/workboots/Datasets/LLPE/raw/statute_pred_45_cases_without_exp.csv\")\n",
    "test_df2 = pd.read_csv(\"/home/workboots/Datasets/LLPE/raw/statute_pred_100_cases_without_exp.csv\")\n",
    "test_df3 = pd.read_csv(\"/home/workboots/Datasets/LLPE/raw/statute_pred_100_cases_without_exp-gender_religion_bias.csv\")"
   ]
  },
  {
   "cell_type": "markdown",
   "id": "cb9664dc-7576-443b-b2e3-ca023ea4b6e2",
   "metadata": {},
   "source": [
    "## Getting targets"
   ]
  },
  {
   "cell_type": "markdown",
   "id": "ca86860c-22a5-42ee-b3c6-4d7f8f1bdcda",
   "metadata": {},
   "source": [
    "The provided test data (100 + 100 + 45) have statutes associated with each datapoint. Of the 245, 45 do not have explicitly specified statutes (e.g. S21 instead of 'Constitution_226'). This notebook is about combining all the data across the three csv files to get an overview of what targets a model has to be trained on."
   ]
  },
  {
   "cell_type": "markdown",
   "id": "b1dc11a9-dece-4c88-a1b4-d7e6b59158f5",
   "metadata": {},
   "source": [
    "### First DataFrame"
   ]
  },
  {
   "cell_type": "markdown",
   "id": "1c5a67e3-bc1d-4c9d-90e7-dd34b955d5e6",
   "metadata": {},
   "source": [
    "The first DataFrame contains the indirect statute labels that needs to be explicitly found."
   ]
  },
  {
   "cell_type": "code",
   "execution_count": 84,
   "id": "4b0cbc11-7e96-49b5-9440-622c49d663d1",
   "metadata": {
    "scrolled": true
   },
   "outputs": [
    {
     "data": {
      "text/html": [
       "<div>\n",
       "<style scoped>\n",
       "    .dataframe tbody tr th:only-of-type {\n",
       "        vertical-align: middle;\n",
       "    }\n",
       "\n",
       "    .dataframe tbody tr th {\n",
       "        vertical-align: top;\n",
       "    }\n",
       "\n",
       "    .dataframe thead th {\n",
       "        text-align: right;\n",
       "    }\n",
       "</style>\n",
       "<table border=\"1\" class=\"dataframe\">\n",
       "  <thead>\n",
       "    <tr style=\"text-align: right;\">\n",
       "      <th></th>\n",
       "      <th>Query ID</th>\n",
       "      <th>Query</th>\n",
       "      <th>Annoted_Query</th>\n",
       "      <th>Actual Statutes</th>\n",
       "      <th>Predicted Statutes</th>\n",
       "    </tr>\n",
       "  </thead>\n",
       "  <tbody>\n",
       "    <tr>\n",
       "      <th>0</th>\n",
       "      <td>AILA_Q1</td>\n",
       "      <td>AILA_Q1||The appellant on February 9, 1961 was...</td>\n",
       "      <td>AILA_Q1||$S52 The appellant on February 9, 196...</td>\n",
       "      <td>['S3']</td>\n",
       "      <td>['S1', 'S2', 'S3', 'S5', 'S6', 'S9', 'S11', 'S...</td>\n",
       "    </tr>\n",
       "    <tr>\n",
       "      <th>1</th>\n",
       "      <td>AILA_Q2</td>\n",
       "      <td>AILA_Q2||The appellant before us was examined ...</td>\n",
       "      <td>AILA_Q2||The appellant before us was examined ...</td>\n",
       "      <td>['S127', 'S27']</td>\n",
       "      <td>[\"S2\", \"S9\", \"S11\", \"S12\", \"S13\", \"S15\", \"S19\"...</td>\n",
       "    </tr>\n",
       "    <tr>\n",
       "      <th>2</th>\n",
       "      <td>AILA_Q5</td>\n",
       "      <td>AILA_Q5||This appeal is preferred against the ...</td>\n",
       "      <td>AILA_Q5||This appeal is preferred against the ...</td>\n",
       "      <td>['S19', 'S6', 'S13', 'S24', 'S64']</td>\n",
       "      <td>['S2', 'S5', 'S6', 'S9', 'S11', 'S13', 'S15', ...</td>\n",
       "    </tr>\n",
       "    <tr>\n",
       "      <th>3</th>\n",
       "      <td>AILA_Q6</td>\n",
       "      <td>AILA_Q6||On 19.3.1999, SI P1 along Ct. P2 went...</td>\n",
       "      <td>AILA_Q6||On 19.3.1999, SI P1 along Ct. P2 went...</td>\n",
       "      <td>['S13', 'S2']</td>\n",
       "      <td>[\"S2\", \"S5\", \"S6\", \"S9\", \"S11\", \"S12\", \"S13\", ...</td>\n",
       "    </tr>\n",
       "    <tr>\n",
       "      <th>4</th>\n",
       "      <td>AILA_Q7</td>\n",
       "      <td>AILA_Q7||This criminal appeal is directed agai...</td>\n",
       "      <td>AILA_Q7||This criminal appeal is directed agai...</td>\n",
       "      <td>['S27', 'S127']</td>\n",
       "      <td>[\"S2\", \"S9\", \"S11\", \"S12\", \"S13\", \"S15\", \"S19\"...</td>\n",
       "    </tr>\n",
       "  </tbody>\n",
       "</table>\n",
       "</div>"
      ],
      "text/plain": [
       "  Query ID                                              Query  \\\n",
       "0  AILA_Q1  AILA_Q1||The appellant on February 9, 1961 was...   \n",
       "1  AILA_Q2  AILA_Q2||The appellant before us was examined ...   \n",
       "2  AILA_Q5  AILA_Q5||This appeal is preferred against the ...   \n",
       "3  AILA_Q6  AILA_Q6||On 19.3.1999, SI P1 along Ct. P2 went...   \n",
       "4  AILA_Q7  AILA_Q7||This criminal appeal is directed agai...   \n",
       "\n",
       "                                       Annoted_Query  \\\n",
       "0  AILA_Q1||$S52 The appellant on February 9, 196...   \n",
       "1  AILA_Q2||The appellant before us was examined ...   \n",
       "2  AILA_Q5||This appeal is preferred against the ...   \n",
       "3  AILA_Q6||On 19.3.1999, SI P1 along Ct. P2 went...   \n",
       "4  AILA_Q7||This criminal appeal is directed agai...   \n",
       "\n",
       "                      Actual Statutes  \\\n",
       "0                              ['S3']   \n",
       "1                     ['S127', 'S27']   \n",
       "2  ['S19', 'S6', 'S13', 'S24', 'S64']   \n",
       "3                       ['S13', 'S2']   \n",
       "4                     ['S27', 'S127']   \n",
       "\n",
       "                                  Predicted Statutes  \n",
       "0  ['S1', 'S2', 'S3', 'S5', 'S6', 'S9', 'S11', 'S...  \n",
       "1  [\"S2\", \"S9\", \"S11\", \"S12\", \"S13\", \"S15\", \"S19\"...  \n",
       "2  ['S2', 'S5', 'S6', 'S9', 'S11', 'S13', 'S15', ...  \n",
       "3  [\"S2\", \"S5\", \"S6\", \"S9\", \"S11\", \"S12\", \"S13\", ...  \n",
       "4  [\"S2\", \"S9\", \"S11\", \"S12\", \"S13\", \"S15\", \"S19\"...  "
      ]
     },
     "execution_count": 84,
     "metadata": {},
     "output_type": "execute_result"
    }
   ],
   "source": [
    "test_df1.head()"
   ]
  },
  {
   "cell_type": "markdown",
   "id": "14886617-c13d-4a37-82b1-782bf442401e",
   "metadata": {},
   "source": [
    "Getting the statute values into a single set"
   ]
  },
  {
   "cell_type": "code",
   "execution_count": 179,
   "id": "82571c30-9743-4d4d-bb23-d3d70970b157",
   "metadata": {},
   "outputs": [],
   "source": [
    "test_df1_statutes = test_df1[\"Actual Statutes\"].apply(literal_eval).values\n",
    "test_df1_statutes = chain.from_iterable(test_df1_statutes)"
   ]
  },
  {
   "cell_type": "code",
   "execution_count": 180,
   "id": "d705257b-3193-47e6-9711-26a453ae7981",
   "metadata": {
    "scrolled": true
   },
   "outputs": [],
   "source": [
    "test_df1_statutes = set(test_df1_statutes)"
   ]
  },
  {
   "cell_type": "code",
   "execution_count": 181,
   "id": "95d06c34-fbe6-451c-b10f-321ceacc1ab0",
   "metadata": {},
   "outputs": [
    {
     "data": {
      "text/plain": [
       "{'S1',\n",
       " 'S11',\n",
       " 'S12',\n",
       " 'S127',\n",
       " 'S13',\n",
       " 'S15',\n",
       " 'S19',\n",
       " 'S2',\n",
       " 'S21',\n",
       " 'S24',\n",
       " 'S27',\n",
       " 'S3',\n",
       " 'S4',\n",
       " 'S43',\n",
       " 'S5',\n",
       " 'S6',\n",
       " 'S64',\n",
       " 'S9'}"
      ]
     },
     "execution_count": 181,
     "metadata": {},
     "output_type": "execute_result"
    }
   ],
   "source": [
    "test_df1_statutes"
   ]
  },
  {
   "cell_type": "code",
   "execution_count": 182,
   "id": "04cf3366-46d9-49b4-bf6e-30c4c393d194",
   "metadata": {},
   "outputs": [
    {
     "data": {
      "text/plain": [
       "18"
      ]
     },
     "execution_count": 182,
     "metadata": {},
     "output_type": "execute_result"
    }
   ],
   "source": [
    "len(test_df1_statutes)"
   ]
  },
  {
   "cell_type": "markdown",
   "id": "9b2d4de4-7b9b-472e-804c-0c35873ef8fd",
   "metadata": {
    "jp-MarkdownHeadingCollapsed": true
   },
   "source": [
    "#### Attempting to map ALL AILA 2019 statutes automatically (FAILING)"
   ]
  },
  {
   "cell_type": "markdown",
   "id": "6e94b7e9-afe4-46a3-9a5c-28c05254e513",
   "metadata": {},
   "source": [
    "Mapping all statutes of the AILA dataset to their actual statute names"
   ]
  },
  {
   "cell_type": "code",
   "execution_count": 56,
   "id": "8468072e-8fcb-4b1b-9eb3-781b16e6a7e1",
   "metadata": {},
   "outputs": [],
   "source": [
    "with open(\"/home/workboots/Datasets/IndiaCode/new/CentralActs/act_chapter_section_info/186045.json\", 'r') as f:\n",
    "    ipc = json.load(f)"
   ]
  },
  {
   "cell_type": "markdown",
   "id": "f2b3252b-f769-4e2c-a332-318ce54e5106",
   "metadata": {},
   "source": [
    "Going through the AILA 2019 statutes and mapping accordingly"
   ]
  },
  {
   "cell_type": "code",
   "execution_count": 62,
   "id": "3eb7740b-5e7e-487c-9c58-bc5e584fc4cd",
   "metadata": {},
   "outputs": [],
   "source": [
    "statute_mapping = {}\n",
    "statute_text = {}"
   ]
  },
  {
   "cell_type": "code",
   "execution_count": 58,
   "id": "cd416daf-737f-443d-a074-c6344b04190e",
   "metadata": {},
   "outputs": [],
   "source": [
    "statute_path = \"/home/workboots/Datasets/LLPE/raw/Object_statutes/\""
   ]
  },
  {
   "cell_type": "code",
   "execution_count": 63,
   "id": "f158ecdb-f405-4416-8c9d-9083610f6e5d",
   "metadata": {},
   "outputs": [],
   "source": [
    "for flpath in os.listdir(statute_path):\n",
    "    with open(os.path.join(statute_path, flpath), 'r') as f:\n",
    "        statute_text[os.path.splitext(flpath)[0]] = f.readline()"
   ]
  },
  {
   "cell_type": "code",
   "execution_count": 66,
   "id": "fd25adc5-d6b0-4495-871e-22f7b2748fe2",
   "metadata": {},
   "outputs": [],
   "source": [
    "statute_text = {\n",
    "    k: v.replace(\"Title: \", \"\").replace(\"\\n\", \"\") for k, v in statute_text.items()}"
   ]
  },
  {
   "cell_type": "code",
   "execution_count": 78,
   "id": "2b24c1ce-6d2e-4584-b0da-aece2e3a53af",
   "metadata": {
    "scrolled": true
   },
   "outputs": [
    {
     "data": {
      "text/plain": [
       "{'S20': 'Cheating and dishonestly inducing delivery of property',\n",
       " 'S146': 'Report of police-officer',\n",
       " 'S147': 'Rules of court, etc.',\n",
       " 'S22': 'Dismissal, removal or reduction in rank of persons employed in civil capacities under the Union or a State',\n",
       " 'S82': 'Powers to control production, supply, distribution, etc., of essential commodities',\n",
       " 'S177': 'Public charities',\n",
       " 'S170': 'Order for maintenance of wives, children and parents',\n",
       " 'S23': 'Saving of inherent power of High Court',\n",
       " 'S159': 'Application for setting aside arbitral award',\n",
       " 'S171': 'Questions to be determined by the Court executing decree',\n",
       " 'S55': 'Lists of common and special jurors',\n",
       " 'S54': 'Punishment for criminal intimidation',\n",
       " 'S44': 'Protection in respect of conviction for offences',\n",
       " 'S123': 'Arbitration agreement or award to be contested by application',\n",
       " 'S165': 'Dishonestly receiving stolen property',\n",
       " 'S77': 'Restrictions as to imposition of tax on the sale or purchase of goods',\n",
       " 'S95': 'Public servant taking gratification other than legal remuneration in respect of an official Act',\n",
       " 'S31': 'Protection against arrest and detention in certain cases',\n",
       " 'S92': 'Kidnapping or abducting in order to murder',\n",
       " 'S67': 'Definitions',\n",
       " 'S48': 'Dowry death',\n",
       " 'S19': 'Punishment for voluntarily causing hurt',\n",
       " 'S160': 'Power of Governor to grant pardons, etc., and to suspend, remit or commute sentences in certain cases',\n",
       " 'S191': 'Superintendence, direction and control of elections to be vested in an Election Commission',\n",
       " 'S195': 'Power of Parliament to impose restrictions on trade, commerce and intercourse',\n",
       " 'S63': 'Abetment of suicide',\n",
       " 'S127': 'Certain laws not to be affected by this Act',\n",
       " 'S25': 'Husband or relative of husband of a woman subjecting her to cruelty',\n",
       " 'S69': 'Appellate jurisdiction of Supreme Court in regard to criminal matters',\n",
       " 'S197': 'Dacoity with murder',\n",
       " 'S157': '\"Public Servant\"',\n",
       " 'S81': 'Enlarged appellate jurisdiction of Supreme Court in regard to criminal matters',\n",
       " 'S28': 'Punishment for rape',\n",
       " 'S70': 'Procedure if only plaintiff appears',\n",
       " 'S78': 'Saving of inherent powers of Court',\n",
       " 'S34': 'Voluntarily causing grievous hurt by dangerous weapons or means',\n",
       " 'S85': 'Citizenship at the commencement of the Constitution',\n",
       " 'S131': 'Abettor present when offence is committed',\n",
       " 'S1': 'Power of High Courts to issue certain writs',\n",
       " 'S13': 'Attempt to murder',\n",
       " 'S137': 'Documents of which registration is compulsory',\n",
       " 'S79': 'Freedom of trade, commerce and intercourse',\n",
       " 'S173': 'Power to order Court',\n",
       " 'S153': 'How much of information received from accused may be proved',\n",
       " 'S84': 'Inconsistency between laws made by Parliament and laws made by the Legislatures of States',\n",
       " 'S129': 'Robbery, or dacoity, with attempt to cause death or grievous hurt',\n",
       " 'S107': 'Punishment',\n",
       " 'S126': 'Res judicata',\n",
       " 'S46': 'Certain principles of policy to be followed by the State',\n",
       " 'S16': 'Recruitment and conditions of service of persons serving the Union or a State',\n",
       " 'S150': 'Power to make orders detaining certain persons',\n",
       " 'S60': 'Subject-matter of laws made by Parliament and by the Legislatures of States',\n",
       " 'S124': 'Penalty for demanding dowry',\n",
       " 'S148': 'Restrictions on trade, commerce and intercourse among States Regulation and Prohibition must be distinguished from each other',\n",
       " 'S117': 'Punishment for dacoity',\n",
       " 'S18': 'Enforcement of decrees and orders of Supreme Court and orders as to discovery, etc.',\n",
       " 'S41': 'Using as genuine a forged document or electronic record',\n",
       " 'S149': 'Special powers of High Court or Court of Session regarding bail',\n",
       " 'S120': 'Saving of laws providing for acquisition of estates, etc.',\n",
       " 'S196': 'Appeal in case of acquittal',\n",
       " 'S118': 'Mischief causing damage to the amount of fifty rupees',\n",
       " 'S183': 'Contracts',\n",
       " 'S83': 'Examination of witnesses by police',\n",
       " 'S187': 'Disqualifications for membership',\n",
       " 'S35': 'Punishment for certain offences',\n",
       " 'S62': 'Punishment of abetment if the act abetted is committed in consequence, and where no express provision is made for its punishment',\n",
       " 'S184': 'Prohibitions of manufacture, sale, etc., of certain articles of food',\n",
       " 'S185': 'Past performance',\n",
       " 'S2': 'Punishment for murder',\n",
       " 'S89': 'Exclusion of time of proceeding bona fide in court without jurisdiction',\n",
       " 'S189': 'Extension of Code to extra-territorial offences',\n",
       " 'S36': 'Punishable for using arms, etc.-',\n",
       " 'S68': 'Written statements to be signed and verified',\n",
       " 'S94': 'Punishment for false evidence',\n",
       " 'S9': 'Protection of life and personal liberty',\n",
       " 'S193': 'Penalty for giving or taking dowry',\n",
       " 'S87': 'Definitions',\n",
       " 'S66': 'Duration of certain leases in absence of written contract or local usage',\n",
       " 'S179': 'Prosecution of Judges and public servants',\n",
       " 'S5': 'Remedies for enforcement of rights conferred by this Part',\n",
       " 'S49': 'Forgery of valuable security, will, etc',\n",
       " 'S17': 'Appellate jurisdiction of Supreme Court in appeals from High Courts in regard to civil matters',\n",
       " 'S108': 'Kidnapping, abducting or inducing woman to compel her marriage, etc',\n",
       " 'S97': 'Definitions',\n",
       " 'S8': 'Power of superintendence over all courts by the High Court',\n",
       " 'S156': 'Statements to police not to be signed: Use of statements in evidence',\n",
       " 'S59': 'Formation of new States and alteration of areas, boundaries or names of existing States',\n",
       " 'S91': 'Extent of executive power of State',\n",
       " 'S198': 'Bar of limitation',\n",
       " 'S96': 'Freedom of conscience and free profession, practice and propagation of religion',\n",
       " 'S176': 'Protection of interests of minorities',\n",
       " 'S168': 'Falsification of accounts',\n",
       " 'S112': 'Causing death by negligence',\n",
       " 'S116': 'Examination of witnesses by police',\n",
       " 'S14': 'Publication of preliminary notification and powers of officers thereupon',\n",
       " 'S3': 'Equality before law',\n",
       " 'S132': 'Power to issue, to include power to add to, amend, vary or rescind notifications, orders, rules or bye-laws',\n",
       " 'S128': 'Protection of tenant against eviction',\n",
       " 'S138': 'Property of a female Hindu to be her absolute Property',\n",
       " 'S52': 'Criminal breach of trust by public servant, or by banker, merchant or agent',\n",
       " 'S174': 'Procedure when defendant refuses to accept service, or cannot be found',\n",
       " 'S73': 'Laws made under articles 2 and 3 to provide for the amendment of the First and the Fourth Schedules and supplemental, incidental and consequential matters',\n",
       " 'S134': 'Penalties',\n",
       " 'S4': 'Special leave to appeal by the Supreme Court',\n",
       " 'S110': 'Punishment for theft',\n",
       " 'S166': 'Power of Court to appoint arbitrator of umpire',\n",
       " 'S53': 'Punishment for criminal breach of trust',\n",
       " 'S182': 'Appointment of district judges',\n",
       " 'S12': 'Punishment of criminal conspiracy',\n",
       " 'S106': 'Right of minorities to establish and administer educational institutions',\n",
       " 'S181': 'Assault or criminal force to woman with intent to outrage her modesty',\n",
       " 'S10': 'Equality of opportunity in matters of public employment',\n",
       " 'S130': 'Extent of laws made by Parliament and by the Legislatures of States',\n",
       " 'S119': 'Intentional insult with intent to provoke breach of the peace',\n",
       " 'S115': 'Recording of confessions and statements',\n",
       " 'S136': 'Punishment for robbery',\n",
       " 'S121': 'Persons not to be deprived of property save by authority of law',\n",
       " 'S100': 'State to secure a social order for the promotion of welfare of the people',\n",
       " 'S155': 'Punishment for criminal trespass',\n",
       " 'S122': 'Taxes not to be imposed save by authority of law',\n",
       " 'S7': 'Protection of certain rights regarding freedom of speech, etc.',\n",
       " 'S133': 'Definition of \"Government Company\"',\n",
       " 'S57': 'Revision',\n",
       " 'S200': 'Savings',\n",
       " 'S125': 'Punishment For forgery',\n",
       " 'S50': 'Law declared by Supreme Court to be binding on all courts',\n",
       " 'S104': 'Report of police officer on completion of investigation',\n",
       " 'S38': 'Second appeal',\n",
       " 'S164': 'Evasion of duty or prohibitions',\n",
       " 'S140': 'Notice',\n",
       " 'S101': 'Grounds for setting aside award',\n",
       " 'S175': 'Duty of the State to raise the level of nutrition and the standard of living and to improve public health',\n",
       " 'S24': 'Voluntarily causing hurt by dangerous weapons or means',\n",
       " 'S39': 'Criminal misconduct by a public servant',\n",
       " 'S145': 'Power to grant exemption from duty',\n",
       " 'S188': 'Rights of citizenship of certain persons who have migrated to India from Pakistan',\n",
       " 'S21': 'Punishment for rioting',\n",
       " 'S51': 'Punishment for culpable homicide not amounting to murder',\n",
       " 'S143': 'Divorce',\n",
       " 'S98': 'Application for compensation',\n",
       " 'S144': 'Prosecution of Judges and public servants',\n",
       " 'S72': 'Reference to Court',\n",
       " 'S93': 'Application to file in Court arbitration agreement',\n",
       " 'S158': 'Power to stay legal proceedings where there is an arbitration agreement',\n",
       " 'S15': 'Rioting, armed with deadly weapon',\n",
       " 'S163': 'Power to make orders detaining certain persons',\n",
       " 'S29': 'Power to examine the accused',\n",
       " 'S37': 'Dishonour of cheque for insufficiency, etc., of funds in the account',\n",
       " 'S151': 'Courts to try all civil suits unless barred-',\n",
       " 'S113': 'Conduct of business of the Government of a State',\n",
       " 'S74': 'Conditions precedent to retrenchment of workmen',\n",
       " 'S65': 'Appointment of arbitrators',\n",
       " 'S139': 'Special powers in cases of urgency',\n",
       " 'S154': 'Power to summon persons to give evidence and produce documents',\n",
       " 'S40': 'Forgery for purpose of cheating',\n",
       " 'S26': 'Causing disappearance of evidence of offence, or giving false information to screen offender',\n",
       " 'S114': 'Admission or establishment of new States',\n",
       " 'S161': 'Power to examine the accused',\n",
       " 'S80': 'Punishment for wrongful confinement',\n",
       " 'S180': 'Promotion of educational and economic interests of Scheduled Castes, Scheduled Tribes and other weaker sections',\n",
       " 'S76': 'Punishment for wrongful restraint',\n",
       " 'S190': 'Division of Code',\n",
       " 'S33': 'Procedure where Court considers that case should not be dealt with under section 480',\n",
       " 'S109': 'Conditions of service, etc., to remain unchanged under certain circumstances during pendency of proceedings',\n",
       " 'S141': 'Punishment for kidnapping',\n",
       " 'S194': 'Definition of dowry',\n",
       " 'S27': 'Procedure and powers of special Judge',\n",
       " 'S90': 'Court, if satisfied that agreement was executed in good faith, may pronounce judgment',\n",
       " 'S43': 'Murder',\n",
       " 'S103': 'Freedom to manage religious affairs',\n",
       " 'S192': 'Levy of additional duty equal to excise duty sales tax, local taxes and other charges',\n",
       " 'S61': 'Laws inconsistent with or in derogation of the fundamental rights Right of Equality',\n",
       " 'S142': 'Courts to try all civil suits unless specially barred',\n",
       " 'S71': 'Appellate jurisdiction of Supreme Court in appeals from High Courts in certain cases',\n",
       " 'S105': 'Land acquisition process under Act No. 1 of 1894 shall be deemed to have lapsed in certain cases',\n",
       " 'S135': 'Continuance in force of existing laws and their adaptation',\n",
       " 'S56': 'Declaration that land is required for a public purpose',\n",
       " 'S75': 'Effect of repeal',\n",
       " 'S30': 'Definition',\n",
       " 'S102': 'Matters to be considered in determining compensation',\n",
       " 'S186': 'Rates of tax on sales in the course of inter-State trade or commerce',\n",
       " 'S172': 'Power to record statements and confessions',\n",
       " 'S152': 'Theft in dwelling house, etc',\n",
       " 'S47': 'Extension of prescribed period in certain cases',\n",
       " 'S88': 'House-trespass after preparation for hurt, assault or wrongful restraint',\n",
       " 'S86': 'Punishment of offences committed beyond, but which by law may be tried within, India',\n",
       " 'S45': 'Prohibition of discrimination on grounds of religion, race, caste, sex or place of birth',\n",
       " 'S111': 'Control over subordinate courts',\n",
       " 'S64': 'Punishment for voluntarily causing grievous hurt',\n",
       " 'S42': 'Reference of disputes to Boards, Courts or Tribunals',\n",
       " 'S167': 'Statements to police not to be signed; use of such - statements in evidence1',\n",
       " 'S169': 'Recovery of money due from an employer',\n",
       " 'S199': 'Punishment for making or possessing explosives under suspicious circumstances',\n",
       " 'S11': 'Every member of unlawful assembly guilty of offence committed in prosecution of common object',\n",
       " 'S178': 'Supreme Court to be a court of record',\n",
       " 'S6': 'Acts done by several persons in furtherance of common intention',\n",
       " 'S99': 'Power to make orders detaining certain persons'}"
      ]
     },
     "execution_count": 78,
     "metadata": {},
     "output_type": "execute_result"
    }
   ],
   "source": [
    "statute_text"
   ]
  },
  {
   "cell_type": "markdown",
   "id": "00d8f16f-01c4-4825-8310-fa83ac1413dc",
   "metadata": {},
   "source": [
    "Finding the the statute numbers from their titles"
   ]
  },
  {
   "cell_type": "code",
   "execution_count": 79,
   "id": "38b54508-66b9-41f8-8c59-08e1c9d7ab39",
   "metadata": {},
   "outputs": [],
   "source": [
    "for statute, text in statute_text.items():\n",
    "    for s_num, data in ipc.items():\n",
    "        if re.sub(r\"[^A-Za-z ]\", \"\", data[\"title\"]).lower() == re.sub(\"r[^A-Za-z ]\", \"\", text).lower():\n",
    "            statute_mapping[statute] = s_num\n",
    "            break"
   ]
  },
  {
   "cell_type": "code",
   "execution_count": 80,
   "id": "6b254e1a-7f1f-494d-ac01-ec9028ee907a",
   "metadata": {},
   "outputs": [
    {
     "data": {
      "text/plain": [
       "48"
      ]
     },
     "execution_count": 80,
     "metadata": {},
     "output_type": "execute_result"
    }
   ],
   "source": [
    "len(statute_mapping)"
   ]
  },
  {
   "cell_type": "code",
   "execution_count": 81,
   "id": "661c6a11-5573-47f5-868b-916d53954e35",
   "metadata": {},
   "outputs": [
    {
     "data": {
      "text/plain": [
       "{'S20': '420',\n",
       " 'S54': '506',\n",
       " 'S165': '411',\n",
       " 'S92': '364',\n",
       " 'S48': '304B',\n",
       " 'S19': '323',\n",
       " 'S63': '306',\n",
       " 'S127': '5',\n",
       " 'S25': '498A',\n",
       " 'S197': '396',\n",
       " 'S28': '376',\n",
       " 'S34': '326',\n",
       " 'S131': '114',\n",
       " 'S13': '307',\n",
       " 'S129': '397',\n",
       " 'S107': '143',\n",
       " 'S117': '395',\n",
       " 'S41': '471',\n",
       " 'S118': '427',\n",
       " 'S2': '302',\n",
       " 'S189': '4',\n",
       " 'S94': '193',\n",
       " 'S49': '467',\n",
       " 'S108': '366',\n",
       " 'S168': '477A',\n",
       " 'S112': '304A',\n",
       " 'S110': '379',\n",
       " 'S53': '406',\n",
       " 'S12': '120B',\n",
       " 'S119': '504',\n",
       " 'S136': '392',\n",
       " 'S155': '447',\n",
       " 'S24': '324',\n",
       " 'S21': '147',\n",
       " 'S51': '304',\n",
       " 'S15': '148',\n",
       " 'S40': '468',\n",
       " 'S80': '342',\n",
       " 'S76': '341',\n",
       " 'S141': '363',\n",
       " 'S43': '300',\n",
       " 'S152': '380',\n",
       " 'S88': '452',\n",
       " 'S86': '3',\n",
       " 'S64': '325',\n",
       " 'S11': '149',\n",
       " 'S6': '34',\n",
       " 'S125': '465'}"
      ]
     },
     "execution_count": 81,
     "metadata": {},
     "output_type": "execute_result"
    }
   ],
   "source": [
    "statute_mapping"
   ]
  },
  {
   "cell_type": "markdown",
   "id": "55073c87-2055-4315-98bc-e2321b7bc6bf",
   "metadata": {},
   "source": [
    "#### Manually annotating the relevant sections for the provided dataset"
   ]
  },
  {
   "cell_type": "markdown",
   "id": "0c86a281-eb67-4411-875c-0185311919c3",
   "metadata": {},
   "source": [
    "As automatic annotation of all the AILA 2019 statutes does not yield satisfactory results, it is preferable to manually annotate the 18 statutes as part of the first test set."
   ]
  },
  {
   "cell_type": "code",
   "execution_count": 183,
   "id": "fe8524f6-bc8c-4344-ab70-11fb1b21b31f",
   "metadata": {},
   "outputs": [],
   "source": [
    "test_df1_statute_mapping = {\n",
    "    'S1': 'Constitution_226',\n",
    "    'S11': 'Indian Penal Code, 1860_149',\n",
    "    'S12': 'Indian Penal Code, 1860_120B',\n",
    "    'S127': 'Indian Penal Code, 1860_5',\n",
    "    'S13': 'Indian Penal Code, 1860_307',\n",
    "    'S15': 'Indian Penal Code, 1860_148',\n",
    "    'S19': 'Indian Penal Code, 1860_321',\n",
    "    'S2': 'Indian Penal Code, 1860_302',\n",
    "    'S21': 'Indian Penal Code, 1860_147',\n",
    "    'S24': 'Indian Penal Code, 1860_324',\n",
    "    'S27': 'Special Courts Act, 1979_5',\n",
    "    'S3': 'Constitution_14',\n",
    "    'S4': 'Constitution_136',\n",
    "    'S43': 'Indian Penal Code, 1860_300',\n",
    "    'S5': 'Constitution_32',\n",
    "    'S6': 'Indian Penal Code, 1860_34',\n",
    "    'S64': 'Indian Penal Code, 1860_325',\n",
    "    'S9': 'Constitution_21'\n",
    "}"
   ]
  },
  {
   "cell_type": "code",
   "execution_count": 184,
   "id": "d3d9d863-21fb-4308-b563-758bb6d3baa5",
   "metadata": {},
   "outputs": [
    {
     "data": {
      "text/plain": [
       "18"
      ]
     },
     "execution_count": 184,
     "metadata": {},
     "output_type": "execute_result"
    }
   ],
   "source": [
    "len(test_df1_statute_mapping)"
   ]
  },
  {
   "cell_type": "markdown",
   "id": "d551f30f-aa57-46e6-ad09-8ea9cf7862d0",
   "metadata": {},
   "source": [
    "### Second DataFame"
   ]
  },
  {
   "cell_type": "code",
   "execution_count": 185,
   "id": "59991382-0dc6-4ca1-b48b-fd3952a1bf15",
   "metadata": {},
   "outputs": [
    {
     "data": {
      "text/html": [
       "<div>\n",
       "<style scoped>\n",
       "    .dataframe tbody tr th:only-of-type {\n",
       "        vertical-align: middle;\n",
       "    }\n",
       "\n",
       "    .dataframe tbody tr th {\n",
       "        vertical-align: top;\n",
       "    }\n",
       "\n",
       "    .dataframe thead th {\n",
       "        text-align: right;\n",
       "    }\n",
       "</style>\n",
       "<table border=\"1\" class=\"dataframe\">\n",
       "  <thead>\n",
       "    <tr style=\"text-align: right;\">\n",
       "      <th></th>\n",
       "      <th>index</th>\n",
       "      <th>Statement</th>\n",
       "      <th>Actual Statutes</th>\n",
       "      <th>Predicted Statutes</th>\n",
       "    </tr>\n",
       "  </thead>\n",
       "  <tbody>\n",
       "    <tr>\n",
       "      <th>0</th>\n",
       "      <td>1953_L_8</td>\n",
       "      <td>0 [DATE] C.A. no.[CARDINAL] of [DATE].The [ORG...</td>\n",
       "      <td>['Constitution_226', 'Constitution_136']</td>\n",
       "      <td>['Constitution_226', 'Constitution_136\"]</td>\n",
       "    </tr>\n",
       "    <tr>\n",
       "      <th>1</th>\n",
       "      <td>1954_A_6</td>\n",
       "      <td>[ORG] of [GPE] 9 [DATE] C.A. no.[CARDINAL] of ...</td>\n",
       "      <td>['Constitution_226', 'Constitution_136', 'Cons...</td>\n",
       "      <td>['Constitution_226', 'Constitution_136\"]</td>\n",
       "    </tr>\n",
       "    <tr>\n",
       "      <th>2</th>\n",
       "      <td>1954_R_3</td>\n",
       "      <td>of India 4 [DATE] Civil Appeal no.[CARDINAL] o...</td>\n",
       "      <td>['Constitution_226', 'Constitution_136']</td>\n",
       "      <td>['Constitution_226', 'Constitution_136\"]</td>\n",
       "    </tr>\n",
       "    <tr>\n",
       "      <th>3</th>\n",
       "      <td>1954_T_53</td>\n",
       "      <td>kur Raghuraj Singh and [ORG] [GPE] 19 [DATE] C...</td>\n",
       "      <td>['Constitution_226', 'Constitution_136']</td>\n",
       "      <td>['Representation of the People Act, 1951_81\"]</td>\n",
       "    </tr>\n",
       "    <tr>\n",
       "      <th>4</th>\n",
       "      <td>1956_E_1</td>\n",
       "      <td>C.A. no.[CARDINAL] of 1954.The [ORG] was deliv...</td>\n",
       "      <td>['Constitution_226', 'Constitution_136', 'Cons...</td>\n",
       "      <td>['Constitution_226', 'Constitution_136\"]</td>\n",
       "    </tr>\n",
       "  </tbody>\n",
       "</table>\n",
       "</div>"
      ],
      "text/plain": [
       "       index                                          Statement  \\\n",
       "0   1953_L_8  0 [DATE] C.A. no.[CARDINAL] of [DATE].The [ORG...   \n",
       "1   1954_A_6  [ORG] of [GPE] 9 [DATE] C.A. no.[CARDINAL] of ...   \n",
       "2   1954_R_3  of India 4 [DATE] Civil Appeal no.[CARDINAL] o...   \n",
       "3  1954_T_53  kur Raghuraj Singh and [ORG] [GPE] 19 [DATE] C...   \n",
       "4   1956_E_1  C.A. no.[CARDINAL] of 1954.The [ORG] was deliv...   \n",
       "\n",
       "                                     Actual Statutes  \\\n",
       "0           ['Constitution_226', 'Constitution_136']   \n",
       "1  ['Constitution_226', 'Constitution_136', 'Cons...   \n",
       "2           ['Constitution_226', 'Constitution_136']   \n",
       "3           ['Constitution_226', 'Constitution_136']   \n",
       "4  ['Constitution_226', 'Constitution_136', 'Cons...   \n",
       "\n",
       "                              Predicted Statutes  \n",
       "0       ['Constitution_226', 'Constitution_136\"]  \n",
       "1       ['Constitution_226', 'Constitution_136\"]  \n",
       "2       ['Constitution_226', 'Constitution_136\"]  \n",
       "3  ['Representation of the People Act, 1951_81\"]  \n",
       "4       ['Constitution_226', 'Constitution_136\"]  "
      ]
     },
     "execution_count": 185,
     "metadata": {},
     "output_type": "execute_result"
    }
   ],
   "source": [
    "test_df2.head()"
   ]
  },
  {
   "cell_type": "code",
   "execution_count": 186,
   "id": "31f1e815-1b46-4510-9aa2-f4913e8e5ff6",
   "metadata": {},
   "outputs": [
    {
     "data": {
      "text/plain": [
       "0                  [Constitution_226, Constitution_136]\n",
       "1     [Constitution_226, Constitution_136, Constitut...\n",
       "2                  [Constitution_226, Constitution_136]\n",
       "3                  [Constitution_226, Constitution_136]\n",
       "4     [Constitution_226, Constitution_136, Constitut...\n",
       "                            ...                        \n",
       "95                 [Constitution_226, Constitution_136]\n",
       "96                 [Constitution_226, Constitution_136]\n",
       "97                 [Constitution_226, Constitution_136]\n",
       "98                 [Constitution_226, Constitution_136]\n",
       "99    [Constitution_226, Constitution_136, Constitut...\n",
       "Name: Actual Statutes, Length: 100, dtype: object"
      ]
     },
     "execution_count": 186,
     "metadata": {},
     "output_type": "execute_result"
    }
   ],
   "source": [
    "test_df2[\"Actual Statutes\"].apply(literal_eval)"
   ]
  },
  {
   "cell_type": "code",
   "execution_count": 187,
   "id": "05c210df-0b07-4514-896f-0c6d09357521",
   "metadata": {},
   "outputs": [],
   "source": [
    "test_df2_statutes = test_df2[\"Actual Statutes\"].apply(literal_eval).values\n",
    "test_df2_statutes = chain.from_iterable(test_df2_statutes)"
   ]
  },
  {
   "cell_type": "code",
   "execution_count": 188,
   "id": "3f6c1f41-e54a-4a30-8a70-279d8cb08591",
   "metadata": {},
   "outputs": [],
   "source": [
    "test_df2_statutes = set(test_df2_statutes)"
   ]
  },
  {
   "cell_type": "code",
   "execution_count": 189,
   "id": "dd386d28-4cac-4d2d-975d-383df6a73239",
   "metadata": {},
   "outputs": [
    {
     "data": {
      "text/plain": [
       "{'Code of Civil Procedure, 1882_151',\n",
       " 'Code of Criminal Procedure, 1973_2',\n",
       " 'Constitution_1',\n",
       " 'Constitution_12',\n",
       " 'Constitution_13',\n",
       " 'Constitution_132',\n",
       " 'Constitution_133',\n",
       " 'Constitution_136',\n",
       " 'Constitution_14',\n",
       " 'Constitution_141',\n",
       " 'Constitution_142',\n",
       " 'Constitution_15',\n",
       " 'Constitution_16',\n",
       " 'Constitution_161',\n",
       " 'Constitution_162',\n",
       " 'Constitution_19',\n",
       " 'Constitution_191',\n",
       " 'Constitution_2',\n",
       " 'Constitution_20',\n",
       " 'Constitution_21',\n",
       " 'Constitution_22',\n",
       " 'Constitution_225',\n",
       " 'Constitution_226',\n",
       " 'Constitution_227',\n",
       " 'Constitution_246',\n",
       " 'Constitution_25',\n",
       " 'Constitution_3',\n",
       " 'Constitution_300',\n",
       " 'Constitution_301',\n",
       " 'Constitution_309',\n",
       " 'Constitution_31',\n",
       " 'Constitution_311',\n",
       " 'Constitution_32',\n",
       " 'Constitution_39',\n",
       " 'Constitution_4',\n",
       " 'Constitution_5',\n",
       " 'Constitution_6',\n",
       " 'Indian Penal Code, 1860_1',\n",
       " 'Indian Penal Code, 1860_120',\n",
       " 'Indian Penal Code, 1860_323',\n",
       " 'Indian Penal Code, 1860_324',\n",
       " 'Indian Penal Code, 1860_34',\n",
       " 'Indian Penal Code, 1860_342',\n",
       " 'Indian Penal Code, 1860_420',\n",
       " 'Industrial Disputes Act, 1947_25'}"
      ]
     },
     "execution_count": 189,
     "metadata": {},
     "output_type": "execute_result"
    }
   ],
   "source": [
    "test_df2_statutes"
   ]
  },
  {
   "cell_type": "markdown",
   "id": "8d101a69-99cf-4ba4-8664-55f666636936",
   "metadata": {},
   "source": [
    "### Third DataFame"
   ]
  },
  {
   "cell_type": "code",
   "execution_count": 190,
   "id": "80428b63-5261-4d04-a9aa-29d31ae03a0d",
   "metadata": {},
   "outputs": [
    {
     "data": {
      "text/html": [
       "<div>\n",
       "<style scoped>\n",
       "    .dataframe tbody tr th:only-of-type {\n",
       "        vertical-align: middle;\n",
       "    }\n",
       "\n",
       "    .dataframe tbody tr th {\n",
       "        vertical-align: top;\n",
       "    }\n",
       "\n",
       "    .dataframe thead th {\n",
       "        text-align: right;\n",
       "    }\n",
       "</style>\n",
       "<table border=\"1\" class=\"dataframe\">\n",
       "  <thead>\n",
       "    <tr style=\"text-align: right;\">\n",
       "      <th></th>\n",
       "      <th>Fact ID</th>\n",
       "      <th>Actual Statutes</th>\n",
       "      <th>Relevant statutes</th>\n",
       "      <th>Predicted Statutes</th>\n",
       "    </tr>\n",
       "  </thead>\n",
       "  <tbody>\n",
       "    <tr>\n",
       "      <th>0</th>\n",
       "      <td>2017_Z_1</td>\n",
       "      <td>['Constitution_226', 'Constitution_14', 'Const...</td>\n",
       "      <td>['Constitution_226', 'Constitution_14', 'Const...</td>\n",
       "      <td>['Constitution_226', 'Constitution_136', 'Ind...</td>\n",
       "    </tr>\n",
       "    <tr>\n",
       "      <th>1</th>\n",
       "      <td>2016_C_27</td>\n",
       "      <td>['Constitution_226', 'Constitution_227', 'Indi...</td>\n",
       "      <td>['Constitution_226', 'Constitution_227', 'Indi...</td>\n",
       "      <td>['Constitution_226', 'Constitution_136', 'Ind...</td>\n",
       "    </tr>\n",
       "    <tr>\n",
       "      <th>2</th>\n",
       "      <td>2003_S_647</td>\n",
       "      <td>['Constitution_226', 'Constitution_311', 'Indi...</td>\n",
       "      <td>['Constitution_226', 'Indian Penal Code, 1860_...</td>\n",
       "      <td>['Constitution_226', 'Constitution_136', 'Ind...</td>\n",
       "    </tr>\n",
       "    <tr>\n",
       "      <th>3</th>\n",
       "      <td>2015_R_96</td>\n",
       "      <td>['Constitution_226', 'Constitution_14', 'India...</td>\n",
       "      <td>['Constitution_226', 'Constitution_14', 'Const...</td>\n",
       "      <td>['Constitution_226', 'Constitution_136', 'Ind...</td>\n",
       "    </tr>\n",
       "    <tr>\n",
       "      <th>4</th>\n",
       "      <td>2011_C_23</td>\n",
       "      <td>['Constitution_226', 'Constitution_136', 'Indi...</td>\n",
       "      <td>['Constitution_226', 'Constitution_136', 'Indi...</td>\n",
       "      <td>['Constitution_226', 'Constitution_136', 'Ind...</td>\n",
       "    </tr>\n",
       "  </tbody>\n",
       "</table>\n",
       "</div>"
      ],
      "text/plain": [
       "      Fact ID                                    Actual Statutes  \\\n",
       "0    2017_Z_1  ['Constitution_226', 'Constitution_14', 'Const...   \n",
       "1   2016_C_27  ['Constitution_226', 'Constitution_227', 'Indi...   \n",
       "2  2003_S_647  ['Constitution_226', 'Constitution_311', 'Indi...   \n",
       "3   2015_R_96  ['Constitution_226', 'Constitution_14', 'India...   \n",
       "4   2011_C_23  ['Constitution_226', 'Constitution_136', 'Indi...   \n",
       "\n",
       "                                   Relevant statutes  \\\n",
       "0  ['Constitution_226', 'Constitution_14', 'Const...   \n",
       "1  ['Constitution_226', 'Constitution_227', 'Indi...   \n",
       "2  ['Constitution_226', 'Indian Penal Code, 1860_...   \n",
       "3  ['Constitution_226', 'Constitution_14', 'Const...   \n",
       "4  ['Constitution_226', 'Constitution_136', 'Indi...   \n",
       "\n",
       "                                  Predicted Statutes  \n",
       "0   ['Constitution_226', 'Constitution_136', 'Ind...  \n",
       "1   ['Constitution_226', 'Constitution_136', 'Ind...  \n",
       "2   ['Constitution_226', 'Constitution_136', 'Ind...  \n",
       "3   ['Constitution_226', 'Constitution_136', 'Ind...  \n",
       "4   ['Constitution_226', 'Constitution_136', 'Ind...  "
      ]
     },
     "execution_count": 190,
     "metadata": {},
     "output_type": "execute_result"
    }
   ],
   "source": [
    "test_df3.head()"
   ]
  },
  {
   "cell_type": "code",
   "execution_count": 191,
   "id": "634df317-8a66-45d0-a42c-1681874d650e",
   "metadata": {},
   "outputs": [
    {
     "data": {
      "text/plain": [
       "0     [Constitution_226, Constitution_14, Constituti...\n",
       "1     [Constitution_226, Constitution_227, Indian Pe...\n",
       "2     [Constitution_226, Constitution_311, Indian Pe...\n",
       "3     [Constitution_226, Constitution_14, Indian Pen...\n",
       "4     [Constitution_226, Constitution_136, Indian Pe...\n",
       "                            ...                        \n",
       "95    [Constitution_226, Constitution_227, Code of C...\n",
       "96    [Constitution_226, Code of Civil Procedure, 18...\n",
       "97    [Constitution_226, Constitution_227, Code of C...\n",
       "98    [Constitution_226, Constitution_136, Code of C...\n",
       "99    [Constitution_136, Indian Penal Code, 1860_376...\n",
       "Name: Actual Statutes, Length: 100, dtype: object"
      ]
     },
     "execution_count": 191,
     "metadata": {},
     "output_type": "execute_result"
    }
   ],
   "source": [
    "test_df3[\"Actual Statutes\"].apply(literal_eval)"
   ]
  },
  {
   "cell_type": "code",
   "execution_count": 192,
   "id": "1dfee696-3bce-484c-9595-6714e8a678e3",
   "metadata": {},
   "outputs": [],
   "source": [
    "test_df3_statutes = test_df3[\"Actual Statutes\"].apply(literal_eval).values\n",
    "test_df3_statutes = chain.from_iterable(test_df3_statutes)"
   ]
  },
  {
   "cell_type": "code",
   "execution_count": 193,
   "id": "ad068c11-e96a-4a2f-971d-1130af5cbc91",
   "metadata": {},
   "outputs": [],
   "source": [
    "test_df3_statutes = set(test_df3_statutes)"
   ]
  },
  {
   "cell_type": "code",
   "execution_count": 194,
   "id": "117d507c-9b19-4923-a686-f555e8d8b121",
   "metadata": {},
   "outputs": [
    {
     "data": {
      "text/plain": [
       "{'Arms Act, 1959_25',\n",
       " 'Arms Act, 1959_27',\n",
       " 'Code of Civil Procedure, 1882_115',\n",
       " 'Code of Civil Procedure, 1882_151',\n",
       " 'Code of Criminal Procedure, 1973_161',\n",
       " 'Code of Criminal Procedure, 1973_2',\n",
       " 'Code of Criminal Procedure, 1973_313',\n",
       " 'Code of Criminal Procedure, 1973_482',\n",
       " 'Constitution_1',\n",
       " 'Constitution_12',\n",
       " 'Constitution_13',\n",
       " 'Constitution_133',\n",
       " 'Constitution_136',\n",
       " 'Constitution_14',\n",
       " 'Constitution_141',\n",
       " 'Constitution_142',\n",
       " 'Constitution_15',\n",
       " 'Constitution_16',\n",
       " 'Constitution_161',\n",
       " 'Constitution_19',\n",
       " 'Constitution_191',\n",
       " 'Constitution_2',\n",
       " 'Constitution_20',\n",
       " 'Constitution_21',\n",
       " 'Constitution_22',\n",
       " 'Constitution_225',\n",
       " 'Constitution_226',\n",
       " 'Constitution_227',\n",
       " 'Constitution_246',\n",
       " 'Constitution_25',\n",
       " 'Constitution_3',\n",
       " 'Constitution_300',\n",
       " 'Constitution_309',\n",
       " 'Constitution_311',\n",
       " 'Constitution_32',\n",
       " 'Constitution_39',\n",
       " 'Constitution_4',\n",
       " 'Constitution_5',\n",
       " 'Constitution_6',\n",
       " 'Indian Penal Code, 1860_1',\n",
       " 'Indian Penal Code, 1860_109',\n",
       " 'Indian Penal Code, 1860_120',\n",
       " 'Indian Penal Code, 1860_147',\n",
       " 'Indian Penal Code, 1860_148',\n",
       " 'Indian Penal Code, 1860_149',\n",
       " 'Indian Penal Code, 1860_2',\n",
       " 'Indian Penal Code, 1860_201',\n",
       " 'Indian Penal Code, 1860_300',\n",
       " 'Indian Penal Code, 1860_302',\n",
       " 'Indian Penal Code, 1860_304',\n",
       " 'Indian Penal Code, 1860_306',\n",
       " 'Indian Penal Code, 1860_307',\n",
       " 'Indian Penal Code, 1860_323',\n",
       " 'Indian Penal Code, 1860_324',\n",
       " 'Indian Penal Code, 1860_325',\n",
       " 'Indian Penal Code, 1860_326',\n",
       " 'Indian Penal Code, 1860_34',\n",
       " 'Indian Penal Code, 1860_341',\n",
       " 'Indian Penal Code, 1860_342',\n",
       " 'Indian Penal Code, 1860_364',\n",
       " 'Indian Penal Code, 1860_366',\n",
       " 'Indian Penal Code, 1860_376',\n",
       " 'Indian Penal Code, 1860_406',\n",
       " 'Indian Penal Code, 1860_409',\n",
       " 'Indian Penal Code, 1860_420',\n",
       " 'Indian Penal Code, 1860_452',\n",
       " 'Indian Penal Code, 1860_467',\n",
       " 'Indian Penal Code, 1860_468',\n",
       " 'Indian Penal Code, 1860_471',\n",
       " 'Indian Penal Code, 1860_498',\n",
       " 'Indian Penal Code, 1860_506',\n",
       " 'Negotiable Instruments Act, 1881_138'}"
      ]
     },
     "execution_count": 194,
     "metadata": {},
     "output_type": "execute_result"
    }
   ],
   "source": [
    "test_df3_statutes"
   ]
  },
  {
   "cell_type": "markdown",
   "id": "7c25d114-dfb3-4ac3-be73-2b0e6ddc389e",
   "metadata": {},
   "source": [
    "### Overall Targets"
   ]
  },
  {
   "cell_type": "markdown",
   "id": "2a428b34-3814-4178-97ee-495988cb2db2",
   "metadata": {},
   "source": [
    "Combining the set of targets found in all three test sets"
   ]
  },
  {
   "cell_type": "code",
   "execution_count": 222,
   "id": "90fd0fd4-e774-4f75-98e8-b91f8f598768",
   "metadata": {},
   "outputs": [],
   "source": [
    "overall = set(test_df1_statute_mapping.values())"
   ]
  },
  {
   "cell_type": "code",
   "execution_count": 223,
   "id": "b103e23c-93e2-4b23-9989-99dd5501cc8c",
   "metadata": {},
   "outputs": [],
   "source": [
    "overall.update(test_df2_statutes, test_df3_statutes)"
   ]
  },
  {
   "cell_type": "code",
   "execution_count": 224,
   "id": "d701a16a-461b-4f1c-bfbd-2f4296941d64",
   "metadata": {},
   "outputs": [
    {
     "data": {
      "text/plain": [
       "81"
      ]
     },
     "execution_count": 224,
     "metadata": {},
     "output_type": "execute_result"
    }
   ],
   "source": [
    "len(overall)"
   ]
  },
  {
   "cell_type": "markdown",
   "id": "1cb019a7-d981-4ff2-9499-bc183ed5a9ab",
   "metadata": {},
   "source": [
    "Therefore, the three test sets have 81 statute targets."
   ]
  },
  {
   "cell_type": "markdown",
   "id": "cde9a986-f3cb-4f91-9424-68508e3abf87",
   "metadata": {},
   "source": [
    "The section 'Indian Penal Code, 1860_120B' is being renamed as 'Indian Penal Code, 1860_120'"
   ]
  },
  {
   "cell_type": "code",
   "execution_count": 225,
   "id": "f084868c-0ad3-4c20-b2d2-2d802b8b886f",
   "metadata": {},
   "outputs": [],
   "source": [
    "overall.remove(\"Indian Penal Code, 1860_120B\")\n",
    "overall.update({\"Indian Penal Code, 1860_120\"})"
   ]
  },
  {
   "cell_type": "code",
   "execution_count": 226,
   "id": "28171ca8-4520-41d9-ad3e-0365e7b04016",
   "metadata": {},
   "outputs": [
    {
     "data": {
      "text/plain": [
       "80"
      ]
     },
     "execution_count": 226,
     "metadata": {},
     "output_type": "execute_result"
    }
   ],
   "source": [
    "len(overall)"
   ]
  },
  {
   "cell_type": "markdown",
   "id": "21c7e557-2cc0-4282-bdf7-02be8f45ff32",
   "metadata": {},
   "source": [
    "Thus, there is a total of 80 statutes in the test set with which statute prediction models are to be trained."
   ]
  },
  {
   "cell_type": "markdown",
   "id": "19f27d6d-7f19-4bd6-87f8-0c8b9eb1df30",
   "metadata": {},
   "source": [
    "### Verification of the existence of targets provided in Supreme Court Data"
   ]
  },
  {
   "cell_type": "code",
   "execution_count": 228,
   "id": "7bba1602-0d25-464f-9577-68e94f49030c",
   "metadata": {},
   "outputs": [],
   "source": [
    "with open(\"/home/workboots/Datasets/SC_50k/common/act_chapter_section_info/section_case_num.json\", 'r') as f:\n",
    "    sc_section_info = json.load(f)"
   ]
  },
  {
   "cell_type": "code",
   "execution_count": 229,
   "id": "3a9f87f2-9e6e-4cf5-a997-074ee788da5b",
   "metadata": {},
   "outputs": [],
   "source": [
    "statute_existence = {}\n",
    "for statute in overall:\n",
    "    statute_existence[statute] = sc_section_info.get(statute, -1)"
   ]
  },
  {
   "cell_type": "code",
   "execution_count": 230,
   "id": "6b42ce4f-899a-445c-9e2a-24d69d8d7f13",
   "metadata": {},
   "outputs": [],
   "source": [
    "not_found = [k for k, v in statute_existence.items() if v == -1]"
   ]
  },
  {
   "cell_type": "code",
   "execution_count": 231,
   "id": "4e71d079-10d7-4e07-83bc-0a162ce725d1",
   "metadata": {},
   "outputs": [
    {
     "data": {
      "text/plain": [
       "[]"
      ]
     },
     "execution_count": 231,
     "metadata": {},
     "output_type": "execute_result"
    }
   ],
   "source": [
    "not_found"
   ]
  },
  {
   "cell_type": "markdown",
   "id": "2a27b5e4-e7a0-47dc-bd83-2a7861bad20f",
   "metadata": {},
   "source": [
    "Thus, all the statutes exist in the provided dataset"
   ]
  },
  {
   "cell_type": "markdown",
   "id": "12b6852b-e26f-413e-a209-609a33e57594",
   "metadata": {},
   "source": [
    "## Mapping unknown queries to queries in the SC dataset to avoid leakage"
   ]
  },
  {
   "cell_type": "markdown",
   "id": "f16d8256-3512-4fb1-b906-e040cd1d9d3e",
   "metadata": {},
   "source": [
    "The queries in the first DataFrame do not provide names of the cases but belong to the Supreme Court. As a result, taking cases from the dataset could result in data leakage. To avoid this, the queries in the AILA 2019 dataset need to be mapped to datapoints in the Supreme Court data (as much as possible)"
   ]
  },
  {
   "cell_type": "markdown",
   "id": "b779f138-c498-4835-b928-f9410e64f2a1",
   "metadata": {},
   "source": [
    "On inspection, while the AILA 2019 queries do exist in the dataset, the ones in the dataset contain aggressive masking which is absent in the test queries. There is no need to check for data leakage."
   ]
  }
 ],
 "metadata": {
  "kernelspec": {
   "display_name": "Python 3 (ipykernel)",
   "language": "python",
   "name": "python3"
  },
  "language_info": {
   "codemirror_mode": {
    "name": "ipython",
    "version": 3
   },
   "file_extension": ".py",
   "mimetype": "text/x-python",
   "name": "python",
   "nbconvert_exporter": "python",
   "pygments_lexer": "ipython3",
   "version": "3.11.3"
  }
 },
 "nbformat": 4,
 "nbformat_minor": 5
}
